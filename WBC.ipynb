{
 "cells": [
  {
   "cell_type": "code",
   "execution_count": 2,
   "id": "9559c4e8",
   "metadata": {},
   "outputs": [],
   "source": [
    "#importing all the necessary packages\n",
    "import pandas as pd\n",
    "import numpy as np\n",
    "import matplotlib.pyplot as plt\n",
    "import seaborn as sns\n",
    "import warnings\n",
    "warnings.filterwarnings(action = 'ignore')"
   ]
  },
  {
   "cell_type": "code",
   "execution_count": 3,
   "id": "9a727d11",
   "metadata": {},
   "outputs": [
    {
     "data": {
      "text/plain": [
       "(689, 11)"
      ]
     },
     "execution_count": 3,
     "metadata": {},
     "output_type": "execute_result"
    }
   ],
   "source": [
    "#importing the dataset into a dataframe\n",
    "data1=pd.read_csv(\"wbc.csv\")\n",
    "#No of rows and columns of dataset\n",
    "data1.shape"
   ]
  },
  {
   "cell_type": "code",
   "execution_count": 4,
   "id": "cb0374fc",
   "metadata": {},
   "outputs": [
    {
     "data": {
      "text/html": [
       "<div>\n",
       "<style scoped>\n",
       "    .dataframe tbody tr th:only-of-type {\n",
       "        vertical-align: middle;\n",
       "    }\n",
       "\n",
       "    .dataframe tbody tr th {\n",
       "        vertical-align: top;\n",
       "    }\n",
       "\n",
       "    .dataframe thead th {\n",
       "        text-align: right;\n",
       "    }\n",
       "</style>\n",
       "<table border=\"1\" class=\"dataframe\">\n",
       "  <thead>\n",
       "    <tr style=\"text-align: right;\">\n",
       "      <th></th>\n",
       "      <th>ID</th>\n",
       "      <th>Mitoses</th>\n",
       "      <th>Marginal_Adhesion</th>\n",
       "      <th>clump_thickness</th>\n",
       "      <th>Uniformity_of_Cellsize</th>\n",
       "      <th>Uniformity_of_cell_Shape</th>\n",
       "      <th>Single_Epithelial_Cell_Size</th>\n",
       "      <th>Bare_Nuclei</th>\n",
       "      <th>Bland_Chromatian</th>\n",
       "      <th>Normal_Nucleoli</th>\n",
       "      <th>Class</th>\n",
       "    </tr>\n",
       "  </thead>\n",
       "  <tbody>\n",
       "    <tr>\n",
       "      <th>0</th>\n",
       "      <td>1000025</td>\n",
       "      <td>1</td>\n",
       "      <td>1</td>\n",
       "      <td>5</td>\n",
       "      <td>1</td>\n",
       "      <td>1</td>\n",
       "      <td>2</td>\n",
       "      <td>1.0</td>\n",
       "      <td>3</td>\n",
       "      <td>1</td>\n",
       "      <td>2</td>\n",
       "    </tr>\n",
       "    <tr>\n",
       "      <th>1</th>\n",
       "      <td>1002945</td>\n",
       "      <td>1</td>\n",
       "      <td>5</td>\n",
       "      <td>5</td>\n",
       "      <td>4</td>\n",
       "      <td>4</td>\n",
       "      <td>7</td>\n",
       "      <td>10.0</td>\n",
       "      <td>3</td>\n",
       "      <td>2</td>\n",
       "      <td>2</td>\n",
       "    </tr>\n",
       "    <tr>\n",
       "      <th>2</th>\n",
       "      <td>1015425</td>\n",
       "      <td>1</td>\n",
       "      <td>1</td>\n",
       "      <td>3</td>\n",
       "      <td>1</td>\n",
       "      <td>1</td>\n",
       "      <td>2</td>\n",
       "      <td>2.0</td>\n",
       "      <td>3</td>\n",
       "      <td>1</td>\n",
       "      <td>2</td>\n",
       "    </tr>\n",
       "    <tr>\n",
       "      <th>3</th>\n",
       "      <td>1016277</td>\n",
       "      <td>1</td>\n",
       "      <td>1</td>\n",
       "      <td>6</td>\n",
       "      <td>8</td>\n",
       "      <td>8</td>\n",
       "      <td>3</td>\n",
       "      <td>4.0</td>\n",
       "      <td>3</td>\n",
       "      <td>7</td>\n",
       "      <td>2</td>\n",
       "    </tr>\n",
       "    <tr>\n",
       "      <th>4</th>\n",
       "      <td>1017023</td>\n",
       "      <td>1</td>\n",
       "      <td>3</td>\n",
       "      <td>4</td>\n",
       "      <td>1</td>\n",
       "      <td>1</td>\n",
       "      <td>2</td>\n",
       "      <td>1.0</td>\n",
       "      <td>3</td>\n",
       "      <td>1</td>\n",
       "      <td>2</td>\n",
       "    </tr>\n",
       "  </tbody>\n",
       "</table>\n",
       "</div>"
      ],
      "text/plain": [
       "        ID  Mitoses  Marginal_Adhesion  clump_thickness  \\\n",
       "0  1000025        1                  1                5   \n",
       "1  1002945        1                  5                5   \n",
       "2  1015425        1                  1                3   \n",
       "3  1016277        1                  1                6   \n",
       "4  1017023        1                  3                4   \n",
       "\n",
       "   Uniformity_of_Cellsize  Uniformity_of_cell_Shape  \\\n",
       "0                       1                         1   \n",
       "1                       4                         4   \n",
       "2                       1                         1   \n",
       "3                       8                         8   \n",
       "4                       1                         1   \n",
       "\n",
       "   Single_Epithelial_Cell_Size  Bare_Nuclei  Bland_Chromatian  \\\n",
       "0                            2          1.0                 3   \n",
       "1                            7         10.0                 3   \n",
       "2                            2          2.0                 3   \n",
       "3                            3          4.0                 3   \n",
       "4                            2          1.0                 3   \n",
       "\n",
       "   Normal_Nucleoli  Class  \n",
       "0                1      2  \n",
       "1                2      2  \n",
       "2                1      2  \n",
       "3                7      2  \n",
       "4                1      2  "
      ]
     },
     "execution_count": 4,
     "metadata": {},
     "output_type": "execute_result"
    }
   ],
   "source": [
    "#viewing some sample records\n",
    "data1.head(5)"
   ]
  },
  {
   "cell_type": "code",
   "execution_count": 5,
   "id": "4b64dbdf",
   "metadata": {},
   "outputs": [
    {
     "data": {
      "text/plain": [
       "ID                              0\n",
       "Mitoses                         0\n",
       "Marginal_Adhesion               0\n",
       "clump_thickness                 0\n",
       "Uniformity_of_Cellsize          0\n",
       "Uniformity_of_cell_Shape        0\n",
       "Single_Epithelial_Cell_Size     0\n",
       "Bare_Nuclei                    16\n",
       "Bland_Chromatian                0\n",
       "Normal_Nucleoli                 0\n",
       "Class                           0\n",
       "dtype: int64"
      ]
     },
     "execution_count": 5,
     "metadata": {},
     "output_type": "execute_result"
    }
   ],
   "source": [
    "#Checking NaN values\n",
    "data1.isna().sum()"
   ]
  },
  {
   "cell_type": "code",
   "execution_count": 6,
   "id": "96bf7f91",
   "metadata": {},
   "outputs": [
    {
     "data": {
      "text/plain": [
       "(689, 11)"
      ]
     },
     "execution_count": 6,
     "metadata": {},
     "output_type": "execute_result"
    }
   ],
   "source": [
    "data1.shape"
   ]
  },
  {
   "cell_type": "code",
   "execution_count": 7,
   "id": "ba3ec1b9",
   "metadata": {},
   "outputs": [
    {
     "data": {
      "text/plain": [
       "(673, 11)"
      ]
     },
     "execution_count": 7,
     "metadata": {},
     "output_type": "execute_result"
    }
   ],
   "source": [
    "#dropping the rows with atleast one NaN\n",
    "data1=data1.dropna()\n",
    "data1.shape"
   ]
  },
  {
   "cell_type": "code",
   "execution_count": 8,
   "id": "8dc86d33",
   "metadata": {},
   "outputs": [
    {
     "data": {
      "text/plain": [
       "ID                             0\n",
       "Mitoses                        0\n",
       "Marginal_Adhesion              0\n",
       "clump_thickness                0\n",
       "Uniformity_of_Cellsize         0\n",
       "Uniformity_of_cell_Shape       0\n",
       "Single_Epithelial_Cell_Size    0\n",
       "Bare_Nuclei                    0\n",
       "Bland_Chromatian               0\n",
       "Normal_Nucleoli                0\n",
       "Class                          0\n",
       "dtype: int64"
      ]
     },
     "execution_count": 8,
     "metadata": {},
     "output_type": "execute_result"
    }
   ],
   "source": [
    "#checking the NaN values again\n",
    "data1.isna().sum()"
   ]
  },
  {
   "cell_type": "code",
   "execution_count": 9,
   "id": "5ca24926",
   "metadata": {},
   "outputs": [
    {
     "data": {
      "text/plain": [
       "ID                               int64\n",
       "Mitoses                          int64\n",
       "Marginal_Adhesion                int64\n",
       "clump_thickness                  int64\n",
       "Uniformity_of_Cellsize           int64\n",
       "Uniformity_of_cell_Shape         int64\n",
       "Single_Epithelial_Cell_Size      int64\n",
       "Bare_Nuclei                    float64\n",
       "Bland_Chromatian                 int64\n",
       "Normal_Nucleoli                  int64\n",
       "Class                            int64\n",
       "dtype: object"
      ]
     },
     "execution_count": 9,
     "metadata": {},
     "output_type": "execute_result"
    }
   ],
   "source": [
    "#checking the data types of the attributes/features\n",
    "data1.dtypes"
   ]
  },
  {
   "cell_type": "code",
   "execution_count": 10,
   "id": "0f6d7220",
   "metadata": {},
   "outputs": [
    {
     "data": {
      "text/plain": [
       "2    438\n",
       "4    235\n",
       "Name: Class, dtype: int64"
      ]
     },
     "execution_count": 10,
     "metadata": {},
     "output_type": "execute_result"
    }
   ],
   "source": [
    "#Counting number of rows in each class i.e benign and malignant\n",
    "data1['Class'].value_counts()"
   ]
  },
  {
   "cell_type": "code",
   "execution_count": 11,
   "id": "f8886101",
   "metadata": {},
   "outputs": [
    {
     "data": {
      "text/plain": [
       "<AxesSubplot:xlabel='Class', ylabel='count'>"
      ]
     },
     "execution_count": 11,
     "metadata": {},
     "output_type": "execute_result"
    },
    {
     "data": {
      "image/png": "[encoded data removed]",
      "text/plain": [
       "<Figure size 640x480 with 1 Axes>"
      ]
     },
     "metadata": {},
     "output_type": "display_data"
    }
   ],
   "source": [
    "#visualising the count through countplot\n",
    "sns.countplot(data1['Class'],label='count')"
   ]
  },
  {
   "cell_type": "code",
   "execution_count": 12,
   "id": "0fc51d76",
   "metadata": {},
   "outputs": [
    {
     "data": {
      "text/plain": [
       "<AxesSubplot:>"
      ]
     },
     "execution_count": 12,
     "metadata": {},
     "output_type": "execute_result"
    },
    {
     "data": {
      "image/png": "[encoded data removed]",
      "text/plain": [
       "<Figure size 1000x1000 with 2 Axes>"
      ]
     },
     "metadata": {},
     "output_type": "display_data"
    }
   ],
   "source": [
    "#Visualising the correlation(%) among the features with the help of heatmap\n",
    "plt.figure(figsize=(10,10))\n",
    "sns.heatmap(data1.iloc[:,5:].corr(),annot=True,fmt='.0%')"
   ]
  },
  {
   "cell_type": "code",
   "execution_count": 13,
   "id": "2f5ebd9a",
   "metadata": {},
   "outputs": [
    {
     "data": {
      "text/plain": [
       "(673, 9)"
      ]
     },
     "execution_count": 13,
     "metadata": {},
     "output_type": "execute_result"
    }
   ],
   "source": [
    "#dividing the given dataset into dependent and independent variables i.e input features(X) and target variable(Y)\n",
    "X=data1.iloc[:,1:10].values\n",
    "Y=data1.iloc[:,10].values\n",
    "X.shape\n",
    "#Y.shape\n"
   ]
  },
  {
   "cell_type": "code",
   "execution_count": 14,
   "id": "40f95576",
   "metadata": {},
   "outputs": [
    {
     "data": {
      "text/plain": [
       "(673, 9)"
      ]
     },
     "execution_count": 14,
     "metadata": {},
     "output_type": "execute_result"
    }
   ],
   "source": [
    "#Standardizing the dataset using StandardScalar\n",
    "from sklearn.preprocessing import StandardScaler as ss\n",
    "sc=ss()\n",
    "X_std=sc.fit_transform(X)\n",
    "X_std.shape"
   ]
  },
  {
   "cell_type": "code",
   "execution_count": 15,
   "id": "dc8d786c",
   "metadata": {},
   "outputs": [
    {
     "data": {
      "image/png": "[encoded data removed]",
      "text/plain": [
       "<Figure size 900x400 with 1 Axes>"
      ]
     },
     "metadata": {},
     "output_type": "display_data"
    }
   ],
   "source": [
    "#Plotting the graph of principal component versus cummulative explained variance\n",
    "from sklearn.decomposition import PCA\n",
    "#Doing dimensionality reduction using pca \n",
    "pca = PCA(n_components=6)\n",
    "#X_pca = pca.fit_transform(X_std)\n",
    "X_pc=pca.fit(X_std)\n",
    "X_pc=pca.transform(X_std)\n",
    "plt.style.use('seaborn')\n",
    "\n",
    "def plot_pca():\n",
    "    plt.figure(figsize = (9, 4))\n",
    "    plt.plot(np.cumsum(pca.explained_variance_ratio_), '--o')\n",
    "    plt.xlabel('Principal Component')\n",
    "    plt.ylabel('Cumulative Explained Variance')\n",
    "    plt.xticks(np.arange(0, 8, 1.0))\n",
    "    plt.show()\n",
    "\n",
    "plot_pca()"
   ]
  },
  {
   "cell_type": "code",
   "execution_count": 16,
   "id": "89659e38",
   "metadata": {},
   "outputs": [
    {
     "name": "stdout",
     "output_type": "stream",
     "text": [
      "DecisionTree Accuracy: 94.66003316749585\n",
      "Linear SVM_Accuracy: 96.5870646766169\n",
      "RBF SVM_Accuracy: 96.4400221116639\n"
     ]
    }
   ],
   "source": [
    "from numpy import array\n",
    "from sklearn.model_selection import KFold,cross_val_score\n",
    "from sklearn.svm import SVC\n",
    "from sklearn.tree import DecisionTreeClassifier\n",
    "from sklearn.neighbors import KNeighborsClassifier\n",
    "from sklearn.decomposition import PCA\n",
    "from sklearn.metrics import accuracy_score\n",
    "\n",
    "kfold=KFold(5)\n",
    "model0=DecisionTreeClassifier(criterion='entropy')\n",
    "model2=SVC(kernel='linear',random_state=1, gamma = 0.002,C=1)\n",
    "model3=SVC(kernel='rbf',random_state=1, gamma = 0.002,C=1)\n",
    "\n",
    "scores_PCA_decisiontree=cross_val_score(model0,X_pc,Y,cv=kfold)\n",
    "scores_PCA_linear = cross_val_score(model2, X_pc, Y, cv = kfold)\n",
    "scores_PCA_RBF = cross_val_score(model3,X_pc, Y, cv = kfold)\n",
    "\n",
    "\n",
    "print('DecisionTree Accuracy:',np.average(scores_PCA_decisiontree)*100)\n",
    "print('Linear SVM_Accuracy:',np.average(scores_PCA_linear)*100)\n",
    "print('RBF SVM_Accuracy:',np.average(scores_PCA_RBF)*100)"
   ]
  },
  {
   "cell_type": "code",
   "execution_count": 17,
   "id": "d7cb2b73",
   "metadata": {},
   "outputs": [
    {
     "name": "stdout",
     "output_type": "stream",
     "text": [
      "Before PCA\n",
      "              Linear SVM_Accuracy: 96.44002211166392\n",
      "              RBF SVM_Accuracy   : 96.1437258153676\n",
      "After PCA\n",
      "              Linear SVM_Accuracy: 96.5870646766169\n",
      "              RBF SVM_Accuracy   : 96.4400221116639\n"
     ]
    }
   ],
   "source": [
    "#Performing the K-Fold Cross Validation for reduced subspace features\n",
    "from numpy import array\n",
    "from sklearn.model_selection import KFold, cross_val_score\n",
    "from sklearn.svm import SVC\n",
    "\n",
    "# prepare cross validation\n",
    "kfold = KFold(5)\n",
    "\n",
    "#Implementation of Support Vector Classifier(SVC)\n",
    "\n",
    "#Enumerate the splits\n",
    "scores_linear_All = cross_val_score(SVC(kernel='linear',C=1, gamma = 0.002), X, Y, cv = kfold)\n",
    "scores_RBF_All = cross_val_score(SVC(kernel='rbf',random_state=1, gamma = 0.002,C=1), X, Y, cv = kfold)\n",
    "scores_PCA_linear_selected = cross_val_score(SVC(kernel='linear',C=1, gamma = 0.002), X_pc, Y, cv = kfold)\n",
    "scores_PCA_RBF_selected = cross_val_score(SVC(kernel='rbf',random_state=1, gamma = 0.002,C=1), X_pc, Y, cv = kfold)\n",
    "#printing the Average of scores from all the splits\n",
    "print(\"Before PCA\")\n",
    "print('              Linear SVM_Accuracy:',np.average(scores_linear_All)*100)\n",
    "print('              RBF SVM_Accuracy   :',np.average(scores_RBF_All)*100)\n",
    "print(\"After PCA\")\n",
    "print('              Linear SVM_Accuracy:',np.average(scores_PCA_linear_selected)*100)\n",
    "print('              RBF SVM_Accuracy   :',np.average(scores_PCA_RBF_selected)*100)\n"
   ]
  },
  {
   "cell_type": "code",
   "execution_count": 18,
   "id": "7fe1338e",
   "metadata": {},
   "outputs": [
    {
     "name": "stdout",
     "output_type": "stream",
     "text": [
      "For [5, 10, 10, 5, 4, 5, 4, 4, 1] :Malignant \n"
     ]
    }
   ],
   "source": [
    "#Prediction of the Output for a sample input features\n",
    "from sklearn.decomposition import PCA\n",
    "from sklearn.model_selection import train_test_split\n",
    "X_train,X_test,Y_train,Y_test=train_test_split(X_pc,Y,test_size=0.2,random_state=52)\n",
    "modelx=SVC()\n",
    "modelx.fit(X_train,Y_train) \n",
    "#x_1=[[5,10,10,5,4,5,4,4,1],[4,8,8,5,4,5,10,4,1],[3,1,1,1,2,1,2,1,1]]   #User input of the features to know the target variable\n",
    "x_1=[[5,10,10,5,4,5,4,4,1]]\n",
    "X_std_1=sc.transform(x_1)\n",
    "X_pca_1=pca.transform(X_std_1)\n",
    "result_pca=modelx.predict(X_pca_1)\n",
    "answer_pca=''\n",
    "for index in range(len(result_pca)):\n",
    "    if result_pca[index]==4:\n",
    "        answer_pca='Malignant'\n",
    "    else:\n",
    "        answer_pca=\"Benign\"\n",
    "    print(f'For {x_1[index]} :{answer_pca} ')"
   ]
  },
  {
   "cell_type": "code",
   "execution_count": 19,
   "id": "aef1cf28",
   "metadata": {},
   "outputs": [],
   "source": [
    "# defining function for getting Confusion matrix,specificity,sensitivity,F1_Score\n",
    "from sklearn.metrics import classification_report, accuracy_score, make_scorer, confusion_matrix, matthews_corrcoef, roc_auc_score, roc_curve, f1_score\n",
    "F1_score = []\n",
    "sensitivity = []\n",
    "specificity = []\n",
    "mcc = []\n",
    "Auc = []\n",
    "acc = []\n",
    "CF=[]\n",
    "def classification_report_with_accuracy_score_1(y_true, y_pred):\n",
    "    F1_score.append(f1_score(y_true, y_pred, average='micro'))\n",
    "    cm1 = confusion_matrix(y_true, y_pred)\n",
    "#     CF[0][0]+=cm1[0][0]\n",
    "#     CF[0][1]+=cm1[0][1]\n",
    "#     CF[1][0]+=cm1[1][0]\n",
    "#     CF[1][1]+=cm1[1][1]\n",
    "    CF.append(cm1) \n",
    "    sensitivity1 = cm1[0,0]/(cm1[0,0]+cm1[0,1])\n",
    "    sensitivity.append(sensitivity1 )\n",
    "    specificity1 = cm1[1,1]/(cm1[1,0]+cm1[1,1])\n",
    "    specificity.append(specificity1)\n",
    "    mcc.append(matthews_corrcoef(y_true, y_pred))\n",
    "    auc=roc_auc_score(y_true,y_pred)\n",
    "    Auc.append(roc_auc_score(y_true,y_pred))\n",
    "    acc.append(accuracy_score(y_true, y_pred))\n",
    "    return accuracy_score(y_true, y_pred)\n"
   ]
  },
  {
   "cell_type": "code",
   "execution_count": 20,
   "id": "445e9734",
   "metadata": {},
   "outputs": [
    {
     "name": "stdout",
     "output_type": "stream",
     "text": [
      "sensitivity :     [97.04022988505747, 97.15386624869386, 96.96797654007582, 97.041563508852]\n",
      "specificity :     [95.31914893617021, 95.31914893617022, 95.76676662816577, 95.56591204277652]\n",
      "F1 score    :      [96.43891652846875, 96.51299060254284, 96.53768196056753, 96.51326699834163]\n",
      "MCC         :      [92.32937937241852, 92.46902309427276, 92.50352911072297, 92.45054172270173]\n",
      "AUC         :      [96.17968941061385, 96.236507592432, 96.3673715841208, 96.30373777581427]\n",
      "Accuracy    :      [96.43891652846875, 96.5870646766169, 96.5870646766169, 96.4400221116639]\n"
     ]
    }
   ],
   "source": [
    "Sense=[]\n",
    "speci=[]\n",
    "F_1=[]\n",
    "MCC_score=[]\n",
    "AUC_score=[]\n",
    "Acc_score=[]\n",
    "\n",
    "result_SVM_ALL = cross_val_score(SVC(kernel='linear',C=1, gamma = 0.002), X, Y, cv = 5, \\\n",
    "               scoring=make_scorer(classification_report_with_accuracy_score_1))\n",
    "speci.append(np.average(specificity)*100)\n",
    "Sense.append(np.average(sensitivity)*100)\n",
    "F_1.append(np.average(F1_score)*100)\n",
    "MCC_score.append(np.average(mcc)*100)\n",
    "AUC_score.append(np.average(Auc)*100)\n",
    "Acc_score.append(np.average(result_SVM_ALL)*100)\n",
    "\n",
    "\n",
    "result_SVM_ALL_RBF = cross_val_score(SVC(kernel='rbf',C=1, gamma = 0.002), X, Y, cv = 5, \\\n",
    "               scoring=make_scorer(classification_report_with_accuracy_score_1))\n",
    "speci.append(np.average(specificity)*100)\n",
    "Sense.append(np.average(sensitivity)*100)\n",
    "F_1.append(np.average(F1_score)*100)\n",
    "MCC_score.append(np.average(mcc)*100)\n",
    "AUC_score.append(np.average(Auc)*100)\n",
    "Acc_score.append(np.average(result_SVM_ALL_RBF)*100)\n",
    "\n",
    "\n",
    "result_SVM_PCA_LINEAR = cross_val_score(SVC(kernel='linear',C=1, gamma = 0.002), X_pc, Y, cv = kfold, \\\n",
    "               scoring=make_scorer(classification_report_with_accuracy_score_1))\n",
    "speci.append(np.average(specificity)*100)\n",
    "Sense.append(np.average(sensitivity)*100)\n",
    "F_1.append(np.average(F1_score)*100)\n",
    "MCC_score.append(np.average(mcc)*100)\n",
    "AUC_score.append(np.average(Auc)*100)\n",
    "Acc_score.append(np.average(result_SVM_PCA_LINEAR)*100)\n",
    "\n",
    "\n",
    "result_SVM_PCA_RBF= cross_val_score(SVC(kernel='rbf',C=1, gamma = 0.002), X_pc, Y, cv = kfold, \\\n",
    "               scoring=make_scorer(classification_report_with_accuracy_score_1))\n",
    "speci.append(np.average(specificity)*100)\n",
    "Sense.append(np.average(sensitivity)*100)\n",
    "F_1.append(np.average(F1_score)*100)\n",
    "MCC_score.append(np.average(mcc)*100)\n",
    "AUC_score.append(np.average(Auc)*100)\n",
    "Acc_score.append(np.average(result_SVM_PCA_RBF)*100)\n",
    "print(\"sensitivity :    \",Sense)\n",
    "print(\"specificity :    \",speci)\n",
    "print(\"F1 score    :     \",F_1)\n",
    "print(\"MCC         :     \",MCC_score)\n",
    "print(\"AUC         :     \",AUC_score)\n",
    "print(\"Accuracy    :     \",Acc_score)\n",
    "\n"
   ]
  },
  {
   "cell_type": "code",
   "execution_count": 21,
   "id": "a1713fc3",
   "metadata": {},
   "outputs": [],
   "source": [
    "#importing  the required packages for implementation of AutoEncoder Feature Selection\n",
    "from tensorflow.keras.models import Model\n",
    "from tensorflow.keras.layers import Input\n",
    "from tensorflow.keras.layers import Dense\n",
    "from tensorflow.keras.layers import LeakyReLU\n",
    "from tensorflow.keras.layers import BatchNormalization\n",
    "from tensorflow.keras import layers as layers\n",
    "from tensorflow.keras.utils import plot_model\n",
    "import keras as keras\n",
    "import tensorflow as tf"
   ]
  },
  {
   "cell_type": "code",
   "execution_count": 22,
   "id": "d374d245",
   "metadata": {},
   "outputs": [
    {
     "name": "stdout",
     "output_type": "stream",
     "text": [
      "Requirement already satisfied: tensorflow in c:\\users\\divya\\appdata\\roaming\\python\\python39\\site-packages (2.12.0)\n",
      "Requirement already satisfied: tensorflow-intel==2.12.0 in c:\\users\\divya\\appdata\\roaming\\python\\python39\\site-packages (from tensorflow) (2.12.0)\n",
      "Requirement already satisfied: numpy<1.24,>=1.22 in c:\\users\\divya\\anaconda3\\lib\\site-packages (from tensorflow-intel==2.12.0->tensorflow) (1.23.5)\n",
      "Requirement already satisfied: tensorflow-estimator<2.13,>=2.12.0 in c:\\users\\divya\\anaconda3\\lib\\site-packages (from tensorflow-intel==2.12.0->tensorflow) (2.12.0)\n",
      "Requirement already satisfied: protobuf!=4.21.0,!=4.21.1,!=4.21.2,!=4.21.3,!=4.21.4,!=4.21.5,<5.0.0dev,>=3.20.3 in c:\\users\\divya\\anaconda3\\lib\\site-packages (from tensorflow-intel==2.12.0->tensorflow) (3.20.3)\n",
      "Requirement already satisfied: libclang>=13.0.0 in c:\\users\\divya\\anaconda3\\lib\\site-packages (from tensorflow-intel==2.12.0->tensorflow) (16.0.0)\n",
      "Requirement already satisfied: opt-einsum>=2.3.2 in c:\\users\\divya\\appdata\\roaming\\python\\python39\\site-packages (from tensorflow-intel==2.12.0->tensorflow) (3.3.0)\n",
      "Requirement already satisfied: termcolor>=1.1.0 in c:\\users\\divya\\anaconda3\\lib\\site-packages (from tensorflow-intel==2.12.0->tensorflow) (2.2.0)\n",
      "Requirement already satisfied: keras<2.13,>=2.12.0 in c:\\users\\divya\\appdata\\roaming\\python\\python39\\site-packages (from tensorflow-intel==2.12.0->tensorflow) (2.12.0)\n",
      "Requirement already satisfied: wrapt<1.15,>=1.11.0 in c:\\users\\divya\\anaconda3\\lib\\site-packages (from tensorflow-intel==2.12.0->tensorflow) (1.14.1)\n",
      "Requirement already satisfied: absl-py>=1.0.0 in c:\\users\\divya\\appdata\\roaming\\python\\python39\\site-packages (from tensorflow-intel==2.12.0->tensorflow) (1.4.0)\n",
      "Requirement already satisfied: flatbuffers>=2.0 in c:\\users\\divya\\anaconda3\\lib\\site-packages (from tensorflow-intel==2.12.0->tensorflow) (23.3.3)\n",
      "Requirement already satisfied: typing-extensions>=3.6.6 in c:\\users\\divya\\anaconda3\\lib\\site-packages (from tensorflow-intel==2.12.0->tensorflow) (4.3.0)\n",
      "Requirement already satisfied: setuptools in c:\\users\\divya\\anaconda3\\lib\\site-packages (from tensorflow-intel==2.12.0->tensorflow) (63.4.1)\n",
      "Requirement already satisfied: gast<=0.4.0,>=0.2.1 in c:\\users\\divya\\appdata\\roaming\\python\\python39\\site-packages (from tensorflow-intel==2.12.0->tensorflow) (0.4.0)\n",
      "Requirement already satisfied: six>=1.12.0 in c:\\users\\divya\\anaconda3\\lib\\site-packages (from tensorflow-intel==2.12.0->tensorflow) (1.16.0)\n",
      "Requirement already satisfied: jax>=0.3.15 in c:\\users\\divya\\appdata\\roaming\\python\\python39\\site-packages (from tensorflow-intel==2.12.0->tensorflow) (0.4.6)\n",
      "Requirement already satisfied: astunparse>=1.6.0 in c:\\users\\divya\\appdata\\roaming\\python\\python39\\site-packages (from tensorflow-intel==2.12.0->tensorflow) (1.6.3)\n",
      "Requirement already satisfied: packaging in c:\\users\\divya\\anaconda3\\lib\\site-packages (from tensorflow-intel==2.12.0->tensorflow) (21.3)\n",
      "Requirement already satisfied: google-pasta>=0.1.1 in c:\\users\\divya\\appdata\\roaming\\python\\python39\\site-packages (from tensorflow-intel==2.12.0->tensorflow) (0.2.0)\n",
      "Requirement already satisfied: h5py>=2.9.0 in c:\\users\\divya\\anaconda3\\lib\\site-packages (from tensorflow-intel==2.12.0->tensorflow) (3.7.0)\n",
      "Requirement already satisfied: tensorflow-io-gcs-filesystem>=0.23.1 in c:\\users\\divya\\anaconda3\\lib\\site-packages (from tensorflow-intel==2.12.0->tensorflow) (0.31.0)\n",
      "Requirement already satisfied: tensorboard<2.13,>=2.12 in c:\\users\\divya\\appdata\\roaming\\python\\python39\\site-packages (from tensorflow-intel==2.12.0->tensorflow) (2.12.0)\n",
      "Requirement already satisfied: grpcio<2.0,>=1.24.3 in c:\\users\\divya\\appdata\\roaming\\python\\python39\\site-packages (from tensorflow-intel==2.12.0->tensorflow) (1.51.3)\n",
      "Requirement already satisfied: wheel<1.0,>=0.23.0 in c:\\users\\divya\\anaconda3\\lib\\site-packages (from astunparse>=1.6.0->tensorflow-intel==2.12.0->tensorflow) (0.37.1)\n",
      "Requirement already satisfied: scipy>=1.5 in c:\\users\\divya\\anaconda3\\lib\\site-packages (from jax>=0.3.15->tensorflow-intel==2.12.0->tensorflow) (1.9.1)\n",
      "Requirement already satisfied: requests<3,>=2.21.0 in c:\\users\\divya\\anaconda3\\lib\\site-packages (from tensorboard<2.13,>=2.12->tensorflow-intel==2.12.0->tensorflow) (2.28.1)\n",
      "Requirement already satisfied: tensorboard-plugin-wit>=1.6.0 in c:\\users\\divya\\anaconda3\\lib\\site-packages (from tensorboard<2.13,>=2.12->tensorflow-intel==2.12.0->tensorflow) (1.8.1)\n",
      "Requirement already satisfied: werkzeug>=1.0.1 in c:\\users\\divya\\anaconda3\\lib\\site-packages (from tensorboard<2.13,>=2.12->tensorflow-intel==2.12.0->tensorflow) (2.0.3)\n",
      "Requirement already satisfied: markdown>=2.6.8 in c:\\users\\divya\\anaconda3\\lib\\site-packages (from tensorboard<2.13,>=2.12->tensorflow-intel==2.12.0->tensorflow) (3.3.4)\n",
      "Requirement already satisfied: google-auth<3,>=1.6.3 in c:\\users\\divya\\anaconda3\\lib\\site-packages (from tensorboard<2.13,>=2.12->tensorflow-intel==2.12.0->tensorflow) (2.16.2)\n",
      "Requirement already satisfied: tensorboard-data-server<0.8.0,>=0.7.0 in c:\\users\\divya\\anaconda3\\lib\\site-packages (from tensorboard<2.13,>=2.12->tensorflow-intel==2.12.0->tensorflow) (0.7.0)\n",
      "Requirement already satisfied: google-auth-oauthlib<0.5,>=0.4.1 in c:\\users\\divya\\appdata\\roaming\\python\\python39\\site-packages (from tensorboard<2.13,>=2.12->tensorflow-intel==2.12.0->tensorflow) (0.4.6)\n",
      "Requirement already satisfied: pyparsing!=3.0.5,>=2.0.2 in c:\\users\\divya\\anaconda3\\lib\\site-packages (from packaging->tensorflow-intel==2.12.0->tensorflow) (3.0.9)\n",
      "Requirement already satisfied: pyasn1-modules>=0.2.1 in c:\\users\\divya\\anaconda3\\lib\\site-packages (from google-auth<3,>=1.6.3->tensorboard<2.13,>=2.12->tensorflow-intel==2.12.0->tensorflow) (0.2.8)\n",
      "Requirement already satisfied: rsa<5,>=3.1.4 in c:\\users\\divya\\anaconda3\\lib\\site-packages (from google-auth<3,>=1.6.3->tensorboard<2.13,>=2.12->tensorflow-intel==2.12.0->tensorflow) (4.9)\n",
      "Requirement already satisfied: cachetools<6.0,>=2.0.0 in c:\\users\\divya\\anaconda3\\lib\\site-packages (from google-auth<3,>=1.6.3->tensorboard<2.13,>=2.12->tensorflow-intel==2.12.0->tensorflow) (5.3.0)\n",
      "Requirement already satisfied: requests-oauthlib>=0.7.0 in c:\\users\\divya\\appdata\\roaming\\python\\python39\\site-packages (from google-auth-oauthlib<0.5,>=0.4.1->tensorboard<2.13,>=2.12->tensorflow-intel==2.12.0->tensorflow) (1.3.1)\n",
      "Requirement already satisfied: urllib3<1.27,>=1.21.1 in c:\\users\\divya\\anaconda3\\lib\\site-packages (from requests<3,>=2.21.0->tensorboard<2.13,>=2.12->tensorflow-intel==2.12.0->tensorflow) (1.26.11)\n",
      "Requirement already satisfied: charset-normalizer<3,>=2 in c:\\users\\divya\\anaconda3\\lib\\site-packages (from requests<3,>=2.21.0->tensorboard<2.13,>=2.12->tensorflow-intel==2.12.0->tensorflow) (2.0.4)\n",
      "Requirement already satisfied: certifi>=2017.4.17 in c:\\users\\divya\\anaconda3\\lib\\site-packages (from requests<3,>=2.21.0->tensorboard<2.13,>=2.12->tensorflow-intel==2.12.0->tensorflow) (2022.9.14)\n",
      "Requirement already satisfied: idna<4,>=2.5 in c:\\users\\divya\\anaconda3\\lib\\site-packages (from requests<3,>=2.21.0->tensorboard<2.13,>=2.12->tensorflow-intel==2.12.0->tensorflow) (3.3)\n",
      "Requirement already satisfied: pyasn1<0.5.0,>=0.4.6 in c:\\users\\divya\\anaconda3\\lib\\site-packages (from pyasn1-modules>=0.2.1->google-auth<3,>=1.6.3->tensorboard<2.13,>=2.12->tensorflow-intel==2.12.0->tensorflow) (0.4.8)\n",
      "Requirement already satisfied: oauthlib>=3.0.0 in c:\\users\\divya\\anaconda3\\lib\\site-packages (from requests-oauthlib>=0.7.0->google-auth-oauthlib<0.5,>=0.4.1->tensorboard<2.13,>=2.12->tensorflow-intel==2.12.0->tensorflow) (3.2.2)\n",
      "Note: you may need to restart the kernel to use updated packages.\n"
     ]
    },
    {
     "name": "stderr",
     "output_type": "stream",
     "text": [
      "WARNING: Ignoring invalid distribution -umpy (c:\\users\\divya\\anaconda3\\lib\\site-packages)\n",
      "WARNING: Ignoring invalid distribution -andas (c:\\users\\divya\\anaconda3\\lib\\site-packages)\n",
      "WARNING: Ignoring invalid distribution -umpy (c:\\users\\divya\\anaconda3\\lib\\site-packages)\n",
      "WARNING: Ignoring invalid distribution -andas (c:\\users\\divya\\anaconda3\\lib\\site-packages)\n",
      "WARNING: Ignoring invalid distribution -umpy (c:\\users\\divya\\anaconda3\\lib\\site-packages)\n",
      "WARNING: Ignoring invalid distribution -andas (c:\\users\\divya\\anaconda3\\lib\\site-packages)\n",
      "WARNING: Ignoring invalid distribution -umpy (c:\\users\\divya\\anaconda3\\lib\\site-packages)\n",
      "WARNING: Ignoring invalid distribution -andas (c:\\users\\divya\\anaconda3\\lib\\site-packages)\n",
      "WARNING: Ignoring invalid distribution -umpy (c:\\users\\divya\\anaconda3\\lib\\site-packages)\n",
      "WARNING: Ignoring invalid distribution -andas (c:\\users\\divya\\anaconda3\\lib\\site-packages)\n",
      "WARNING: Ignoring invalid distribution -umpy (c:\\users\\divya\\anaconda3\\lib\\site-packages)\n",
      "WARNING: Ignoring invalid distribution -andas (c:\\users\\divya\\anaconda3\\lib\\site-packages)\n"
     ]
    }
   ],
   "source": [
    "pip install tensorflow\n"
   ]
  },
  {
   "cell_type": "code",
   "execution_count": 23,
   "id": "44dc26be",
   "metadata": {},
   "outputs": [
    {
     "name": "stdout",
     "output_type": "stream",
     "text": [
      "Model: \"autoencoder\"\n",
      "_________________________________________________________________\n",
      " Layer (type)                Output Shape              Param #   \n",
      "=================================================================\n",
      " input_1 (InputLayer)        [(None, 9)]               0         \n",
      "                                                                 \n",
      " encoder (Functional)        (None, 6)                 191       \n",
      "                                                                 \n",
      " model (Functional)          (None, 9)                 194       \n",
      "                                                                 \n",
      "=================================================================\n",
      "Total params: 385\n",
      "Trainable params: 385\n",
      "Non-trainable params: 0\n",
      "_________________________________________________________________\n",
      "Epoch 1/200\n",
      "22/22 [==============================] - 2s 8ms/step - loss: 3.7899\n",
      "Epoch 2/200\n",
      "22/22 [==============================] - 0s 7ms/step - loss: 0.3053\n",
      "Epoch 3/200\n",
      "22/22 [==============================] - 0s 7ms/step - loss: 0.3212\n",
      "Epoch 4/200\n",
      "22/22 [==============================] - 0s 7ms/step - loss: 0.1433\n",
      "Epoch 5/200\n",
      "22/22 [==============================] - 0s 5ms/step - loss: 0.1288\n",
      "Epoch 6/200\n",
      "22/22 [==============================] - 0s 5ms/step - loss: 0.1524\n",
      "Epoch 7/200\n",
      "22/22 [==============================] - 0s 6ms/step - loss: 0.1143\n",
      "Epoch 8/200\n",
      "22/22 [==============================] - 0s 6ms/step - loss: 0.1060\n",
      "Epoch 9/200\n",
      "22/22 [==============================] - 0s 6ms/step - loss: 0.1123\n",
      "Epoch 10/200\n",
      "22/22 [==============================] - 0s 5ms/step - loss: 0.0989\n",
      "Epoch 11/200\n",
      "22/22 [==============================] - 0s 6ms/step - loss: 0.1016\n",
      "Epoch 12/200\n",
      "22/22 [==============================] - 0s 6ms/step - loss: 0.1095\n",
      "Epoch 13/200\n",
      "22/22 [==============================] - 0s 4ms/step - loss: 0.0974\n",
      "Epoch 14/200\n",
      "22/22 [==============================] - 0s 5ms/step - loss: 0.1102\n",
      "Epoch 15/200\n",
      "22/22 [==============================] - 0s 6ms/step - loss: 0.1012\n",
      "Epoch 16/200\n",
      "22/22 [==============================] - 0s 6ms/step - loss: 0.0949\n",
      "Epoch 17/200\n",
      "22/22 [==============================] - 0s 6ms/step - loss: 0.1161\n",
      "Epoch 18/200\n",
      "22/22 [==============================] - 0s 4ms/step - loss: 0.0936\n",
      "Epoch 19/200\n",
      "22/22 [==============================] - 0s 6ms/step - loss: 0.0884\n",
      "Epoch 20/200\n",
      "22/22 [==============================] - 0s 6ms/step - loss: 0.0974\n",
      "Epoch 21/200\n",
      "22/22 [==============================] - 0s 5ms/step - loss: 0.0934\n",
      "Epoch 22/200\n",
      "22/22 [==============================] - 0s 7ms/step - loss: 0.0876\n",
      "Epoch 23/200\n",
      "22/22 [==============================] - 0s 6ms/step - loss: 0.1094\n",
      "Epoch 24/200\n",
      "22/22 [==============================] - 0s 5ms/step - loss: 0.8434\n",
      "Epoch 25/200\n",
      "22/22 [==============================] - 0s 6ms/step - loss: 0.1130\n",
      "Epoch 26/200\n",
      "22/22 [==============================] - 0s 6ms/step - loss: 0.0992\n",
      "Epoch 27/200\n",
      "22/22 [==============================] - 0s 5ms/step - loss: 0.0997\n",
      "Epoch 28/200\n",
      "22/22 [==============================] - 0s 5ms/step - loss: 0.0989\n",
      "Epoch 29/200\n",
      "22/22 [==============================] - 0s 6ms/step - loss: 0.0998\n",
      "Epoch 30/200\n",
      "22/22 [==============================] - 0s 6ms/step - loss: 0.1012\n",
      "Epoch 31/200\n",
      "22/22 [==============================] - 0s 5ms/step - loss: 0.0897\n",
      "Epoch 32/200\n",
      "22/22 [==============================] - 0s 4ms/step - loss: 0.0888\n",
      "Epoch 33/200\n",
      "22/22 [==============================] - 0s 7ms/step - loss: 0.0849\n",
      "Epoch 34/200\n",
      "22/22 [==============================] - 0s 7ms/step - loss: 0.0957\n",
      "Epoch 35/200\n",
      "22/22 [==============================] - 0s 5ms/step - loss: 0.0968\n",
      "Epoch 36/200\n",
      "22/22 [==============================] - 0s 5ms/step - loss: 0.0894\n",
      "Epoch 37/200\n",
      "22/22 [==============================] - 0s 9ms/step - loss: 0.0982\n",
      "Epoch 38/200\n",
      "22/22 [==============================] - 0s 7ms/step - loss: 0.0911\n",
      "Epoch 39/200\n",
      "22/22 [==============================] - 0s 5ms/step - loss: 0.1014\n",
      "Epoch 40/200\n",
      "22/22 [==============================] - 0s 5ms/step - loss: 0.0922\n",
      "Epoch 41/200\n",
      "22/22 [==============================] - 0s 5ms/step - loss: 0.0988\n",
      "Epoch 42/200\n",
      "22/22 [==============================] - 0s 4ms/step - loss: 0.0957\n",
      "Epoch 43/200\n",
      "22/22 [==============================] - 0s 4ms/step - loss: 0.0971\n",
      "Epoch 44/200\n",
      "22/22 [==============================] - 0s 5ms/step - loss: 0.0947\n",
      "Epoch 45/200\n",
      "22/22 [==============================] - 0s 4ms/step - loss: 0.0835\n",
      "Epoch 46/200\n",
      "22/22 [==============================] - 0s 5ms/step - loss: 0.0886\n",
      "Epoch 47/200\n",
      "22/22 [==============================] - 0s 4ms/step - loss: 0.0965\n",
      "Epoch 48/200\n",
      "22/22 [==============================] - 0s 5ms/step - loss: 0.1138\n",
      "Epoch 49/200\n",
      "22/22 [==============================] - 0s 5ms/step - loss: 0.0886\n",
      "Epoch 50/200\n",
      "22/22 [==============================] - 0s 4ms/step - loss: 0.0914\n",
      "Epoch 51/200\n",
      "22/22 [==============================] - 0s 5ms/step - loss: 2.0174\n",
      "Epoch 52/200\n",
      "22/22 [==============================] - 0s 5ms/step - loss: 0.3213\n",
      "Epoch 53/200\n",
      "22/22 [==============================] - 0s 5ms/step - loss: 0.2109\n",
      "Epoch 54/200\n",
      "22/22 [==============================] - 0s 5ms/step - loss: 0.1789\n",
      "Epoch 55/200\n",
      "22/22 [==============================] - 0s 4ms/step - loss: 0.2007\n",
      "Epoch 56/200\n",
      "22/22 [==============================] - 0s 4ms/step - loss: 0.1417\n",
      "Epoch 57/200\n",
      "22/22 [==============================] - 0s 5ms/step - loss: 0.1753\n",
      "Epoch 58/200\n",
      "22/22 [==============================] - 0s 4ms/step - loss: 0.1031\n",
      "Epoch 59/200\n",
      "22/22 [==============================] - 0s 5ms/step - loss: 0.1831\n",
      "Epoch 60/200\n",
      "22/22 [==============================] - 0s 4ms/step - loss: 0.1340\n",
      "Epoch 61/200\n",
      "22/22 [==============================] - 0s 5ms/step - loss: 0.1740\n",
      "Epoch 62/200\n",
      "22/22 [==============================] - 0s 5ms/step - loss: 0.1331\n",
      "Epoch 63/200\n",
      "22/22 [==============================] - 0s 5ms/step - loss: 0.1434\n",
      "Epoch 64/200\n",
      "22/22 [==============================] - 0s 4ms/step - loss: 0.1093\n",
      "Epoch 65/200\n",
      "22/22 [==============================] - 0s 5ms/step - loss: 0.1231\n",
      "Epoch 66/200\n",
      "22/22 [==============================] - 0s 4ms/step - loss: 0.1176\n",
      "Epoch 67/200\n",
      "22/22 [==============================] - 0s 4ms/step - loss: 0.1187\n",
      "Epoch 68/200\n",
      "22/22 [==============================] - 0s 6ms/step - loss: 0.1203\n",
      "Epoch 69/200\n",
      "22/22 [==============================] - 0s 7ms/step - loss: 0.0913\n",
      "Epoch 70/200\n",
      "22/22 [==============================] - 0s 6ms/step - loss: 0.0973\n",
      "Epoch 71/200\n",
      "22/22 [==============================] - 0s 4ms/step - loss: 0.0928\n",
      "Epoch 72/200\n",
      "22/22 [==============================] - 0s 5ms/step - loss: 0.1010\n",
      "Epoch 73/200\n",
      "22/22 [==============================] - 0s 4ms/step - loss: 0.1020\n",
      "Epoch 74/200\n",
      "22/22 [==============================] - 0s 5ms/step - loss: 0.1055\n",
      "Epoch 75/200\n",
      "22/22 [==============================] - 0s 4ms/step - loss: 0.0898\n",
      "Epoch 76/200\n",
      "22/22 [==============================] - 0s 5ms/step - loss: 0.1011\n",
      "Epoch 77/200\n",
      "22/22 [==============================] - 0s 4ms/step - loss: 0.0992\n",
      "Epoch 78/200\n",
      "22/22 [==============================] - 0s 6ms/step - loss: 0.1033\n",
      "Epoch 79/200\n",
      "22/22 [==============================] - 0s 6ms/step - loss: 0.0968\n",
      "Epoch 80/200\n",
      "22/22 [==============================] - 0s 8ms/step - loss: 0.0899\n",
      "Epoch 81/200\n",
      "22/22 [==============================] - 0s 5ms/step - loss: 0.2564\n",
      "Epoch 82/200\n",
      "22/22 [==============================] - 0s 5ms/step - loss: 0.1062\n",
      "Epoch 83/200\n",
      "22/22 [==============================] - 0s 4ms/step - loss: 0.1009\n",
      "Epoch 84/200\n",
      "22/22 [==============================] - 0s 5ms/step - loss: 0.1067\n",
      "Epoch 85/200\n",
      "22/22 [==============================] - 0s 5ms/step - loss: 0.0910\n",
      "Epoch 86/200\n",
      "22/22 [==============================] - 0s 5ms/step - loss: 0.0910\n",
      "Epoch 87/200\n",
      "22/22 [==============================] - 0s 5ms/step - loss: 0.1127\n",
      "Epoch 88/200\n",
      "22/22 [==============================] - 0s 4ms/step - loss: 0.3658\n",
      "Epoch 89/200\n",
      "22/22 [==============================] - 0s 5ms/step - loss: 0.1337\n",
      "Epoch 90/200\n",
      "22/22 [==============================] - 0s 5ms/step - loss: 0.1251\n",
      "Epoch 91/200\n",
      "22/22 [==============================] - 0s 5ms/step - loss: 0.1387\n",
      "Epoch 92/200\n"
     ]
    },
    {
     "name": "stdout",
     "output_type": "stream",
     "text": [
      "22/22 [==============================] - 0s 4ms/step - loss: 0.0904\n",
      "Epoch 93/200\n",
      "22/22 [==============================] - 0s 4ms/step - loss: 0.0871\n",
      "Epoch 94/200\n",
      "22/22 [==============================] - 0s 4ms/step - loss: 0.0939\n",
      "Epoch 95/200\n",
      "22/22 [==============================] - 0s 4ms/step - loss: 0.0931\n",
      "Epoch 96/200\n",
      "22/22 [==============================] - 0s 4ms/step - loss: 0.0864\n",
      "Epoch 97/200\n",
      "22/22 [==============================] - 0s 5ms/step - loss: 0.0863\n",
      "Epoch 98/200\n",
      "22/22 [==============================] - 0s 5ms/step - loss: 0.1020\n",
      "Epoch 99/200\n",
      "22/22 [==============================] - 0s 4ms/step - loss: 0.1206\n",
      "Epoch 100/200\n",
      "22/22 [==============================] - 0s 5ms/step - loss: 0.0976\n",
      "Epoch 101/200\n",
      "22/22 [==============================] - 0s 4ms/step - loss: 0.0848\n",
      "Epoch 102/200\n",
      "22/22 [==============================] - 0s 4ms/step - loss: 0.0954\n",
      "Epoch 103/200\n",
      "22/22 [==============================] - 0s 4ms/step - loss: 0.0851\n",
      "Epoch 104/200\n",
      "22/22 [==============================] - 0s 5ms/step - loss: 0.0818\n",
      "Epoch 105/200\n",
      "22/22 [==============================] - 0s 5ms/step - loss: 0.0900\n",
      "Epoch 106/200\n",
      "22/22 [==============================] - 0s 5ms/step - loss: 0.0820\n",
      "Epoch 107/200\n",
      "22/22 [==============================] - 0s 5ms/step - loss: 0.0866\n",
      "Epoch 108/200\n",
      "22/22 [==============================] - 0s 4ms/step - loss: 0.0848\n",
      "Epoch 109/200\n",
      "22/22 [==============================] - 0s 4ms/step - loss: 0.0795\n",
      "Epoch 110/200\n",
      "22/22 [==============================] - 0s 5ms/step - loss: 0.0800\n",
      "Epoch 111/200\n",
      "22/22 [==============================] - 0s 4ms/step - loss: 0.0803\n",
      "Epoch 112/200\n",
      "22/22 [==============================] - 0s 5ms/step - loss: 0.0805\n",
      "Epoch 113/200\n",
      "22/22 [==============================] - 0s 5ms/step - loss: 0.0783\n",
      "Epoch 114/200\n",
      "22/22 [==============================] - 0s 4ms/step - loss: 0.0821\n",
      "Epoch 115/200\n",
      "22/22 [==============================] - 0s 4ms/step - loss: 0.0782\n",
      "Epoch 116/200\n",
      "22/22 [==============================] - 0s 4ms/step - loss: 0.0836\n",
      "Epoch 117/200\n",
      "22/22 [==============================] - 0s 5ms/step - loss: 0.0793\n",
      "Epoch 118/200\n",
      "22/22 [==============================] - 0s 5ms/step - loss: 0.0839\n",
      "Epoch 119/200\n",
      "22/22 [==============================] - 0s 4ms/step - loss: 0.0795\n",
      "Epoch 120/200\n",
      "22/22 [==============================] - 0s 4ms/step - loss: 0.0798\n",
      "Epoch 121/200\n",
      "22/22 [==============================] - 0s 4ms/step - loss: 0.0831\n",
      "Epoch 122/200\n",
      "22/22 [==============================] - 0s 4ms/step - loss: 0.0814\n",
      "Epoch 123/200\n",
      "22/22 [==============================] - 0s 6ms/step - loss: 0.0805\n",
      "Epoch 124/200\n",
      "22/22 [==============================] - 0s 5ms/step - loss: 0.0768\n",
      "Epoch 125/200\n",
      "22/22 [==============================] - 0s 5ms/step - loss: 0.0847\n",
      "Epoch 126/200\n",
      "22/22 [==============================] - 0s 6ms/step - loss: 0.0766\n",
      "Epoch 127/200\n",
      "22/22 [==============================] - 0s 6ms/step - loss: 0.0780\n",
      "Epoch 128/200\n",
      "22/22 [==============================] - 0s 5ms/step - loss: 0.0785\n",
      "Epoch 129/200\n",
      "22/22 [==============================] - 0s 5ms/step - loss: 0.0828\n",
      "Epoch 130/200\n",
      "22/22 [==============================] - 0s 5ms/step - loss: 0.0791\n",
      "Epoch 131/200\n",
      "22/22 [==============================] - 0s 5ms/step - loss: 0.0781\n",
      "Epoch 132/200\n",
      "22/22 [==============================] - 0s 5ms/step - loss: 0.0763\n",
      "Epoch 133/200\n",
      "22/22 [==============================] - 0s 5ms/step - loss: 0.0803\n",
      "Epoch 134/200\n",
      "22/22 [==============================] - 0s 5ms/step - loss: 0.0837\n",
      "Epoch 135/200\n",
      "22/22 [==============================] - 0s 5ms/step - loss: 0.0771\n",
      "Epoch 136/200\n",
      "22/22 [==============================] - 0s 7ms/step - loss: 0.0782\n",
      "Epoch 137/200\n",
      "22/22 [==============================] - 0s 5ms/step - loss: 0.0822\n",
      "Epoch 138/200\n",
      "22/22 [==============================] - 0s 6ms/step - loss: 0.0755\n",
      "Epoch 139/200\n",
      "22/22 [==============================] - 0s 5ms/step - loss: 0.0757\n",
      "Epoch 140/200\n",
      "22/22 [==============================] - 0s 5ms/step - loss: 0.0753\n",
      "Epoch 141/200\n",
      "22/22 [==============================] - 0s 5ms/step - loss: 0.0803\n",
      "Epoch 142/200\n",
      "22/22 [==============================] - 0s 5ms/step - loss: 0.0771\n",
      "Epoch 143/200\n",
      "22/22 [==============================] - 0s 5ms/step - loss: 0.0752\n",
      "Epoch 144/200\n",
      "22/22 [==============================] - 0s 5ms/step - loss: 0.0802\n",
      "Epoch 145/200\n",
      "22/22 [==============================] - 0s 6ms/step - loss: 0.0756\n",
      "Epoch 146/200\n",
      "22/22 [==============================] - 0s 5ms/step - loss: 0.0788\n",
      "Epoch 147/200\n",
      "22/22 [==============================] - 0s 5ms/step - loss: 0.0808\n",
      "Epoch 148/200\n",
      "22/22 [==============================] - 0s 5ms/step - loss: 0.0763\n",
      "Epoch 149/200\n",
      "22/22 [==============================] - 0s 5ms/step - loss: 0.0751\n",
      "Epoch 150/200\n",
      "22/22 [==============================] - 0s 5ms/step - loss: 0.0771\n",
      "Epoch 151/200\n",
      "22/22 [==============================] - 0s 5ms/step - loss: 0.0755\n",
      "Epoch 152/200\n",
      "22/22 [==============================] - 0s 4ms/step - loss: 0.0736\n",
      "Epoch 153/200\n",
      "22/22 [==============================] - 0s 6ms/step - loss: 0.0754\n",
      "Epoch 154/200\n",
      "22/22 [==============================] - 0s 5ms/step - loss: 0.0744\n",
      "Epoch 155/200\n",
      "22/22 [==============================] - 0s 6ms/step - loss: 0.0810\n",
      "Epoch 156/200\n",
      "22/22 [==============================] - 0s 4ms/step - loss: 0.0787\n",
      "Epoch 157/200\n",
      "22/22 [==============================] - 0s 5ms/step - loss: 0.0730\n",
      "Epoch 158/200\n",
      "22/22 [==============================] - 0s 5ms/step - loss: 0.0761\n",
      "Epoch 159/200\n",
      "22/22 [==============================] - 0s 5ms/step - loss: 0.0736\n",
      "Epoch 160/200\n",
      "22/22 [==============================] - 0s 6ms/step - loss: 0.0747\n",
      "Epoch 161/200\n",
      "22/22 [==============================] - 0s 4ms/step - loss: 0.0733\n",
      "Epoch 162/200\n",
      "22/22 [==============================] - 0s 5ms/step - loss: 0.0760\n",
      "Epoch 163/200\n",
      "22/22 [==============================] - 0s 6ms/step - loss: 0.0741\n",
      "Epoch 164/200\n",
      "22/22 [==============================] - 0s 5ms/step - loss: 0.0737\n",
      "Epoch 165/200\n",
      "22/22 [==============================] - 0s 5ms/step - loss: 0.0744\n",
      "Epoch 166/200\n",
      "22/22 [==============================] - 0s 7ms/step - loss: 0.0746\n",
      "Epoch 167/200\n",
      "22/22 [==============================] - 0s 5ms/step - loss: 0.0748\n",
      "Epoch 168/200\n",
      "22/22 [==============================] - 0s 4ms/step - loss: 0.0724\n",
      "Epoch 169/200\n",
      "22/22 [==============================] - 0s 4ms/step - loss: 0.0755\n",
      "Epoch 170/200\n",
      "22/22 [==============================] - 0s 5ms/step - loss: 0.0744\n",
      "Epoch 171/200\n",
      "22/22 [==============================] - 0s 5ms/step - loss: 0.0764\n",
      "Epoch 172/200\n",
      "22/22 [==============================] - 0s 4ms/step - loss: 0.0735\n",
      "Epoch 173/200\n",
      "22/22 [==============================] - 0s 5ms/step - loss: 0.0729\n",
      "Epoch 174/200\n",
      "22/22 [==============================] - 0s 4ms/step - loss: 0.0737\n",
      "Epoch 175/200\n",
      "22/22 [==============================] - 0s 4ms/step - loss: 0.0731\n",
      "Epoch 176/200\n",
      "22/22 [==============================] - 0s 5ms/step - loss: 0.1193\n",
      "Epoch 177/200\n",
      "22/22 [==============================] - 0s 5ms/step - loss: 0.0746\n",
      "Epoch 178/200\n",
      "22/22 [==============================] - 0s 7ms/step - loss: 0.0724\n",
      "Epoch 179/200\n",
      "22/22 [==============================] - 0s 5ms/step - loss: 0.0737\n",
      "Epoch 180/200\n",
      "22/22 [==============================] - 0s 5ms/step - loss: 0.0765\n",
      "Epoch 181/200\n",
      "22/22 [==============================] - 0s 5ms/step - loss: 0.0731\n",
      "Epoch 182/200\n",
      "22/22 [==============================] - 0s 4ms/step - loss: 0.0716\n",
      "Epoch 183/200\n",
      "22/22 [==============================] - 0s 5ms/step - loss: 0.1119\n",
      "Epoch 184/200\n",
      "22/22 [==============================] - 0s 5ms/step - loss: 0.0775\n",
      "Epoch 185/200\n",
      "22/22 [==============================] - 0s 5ms/step - loss: 0.0777\n",
      "Epoch 186/200\n",
      "22/22 [==============================] - 0s 5ms/step - loss: 0.0765\n",
      "Epoch 187/200\n",
      "22/22 [==============================] - 0s 4ms/step - loss: 0.0748\n",
      "Epoch 188/200\n",
      "22/22 [==============================] - 0s 4ms/step - loss: 0.0740\n",
      "Epoch 189/200\n",
      "22/22 [==============================] - 0s 5ms/step - loss: 0.0720\n",
      "Epoch 190/200\n",
      "22/22 [==============================] - 0s 4ms/step - loss: 0.0735\n",
      "Epoch 191/200\n",
      "22/22 [==============================] - 0s 6ms/step - loss: 0.0756\n",
      "Epoch 192/200\n"
     ]
    },
    {
     "name": "stdout",
     "output_type": "stream",
     "text": [
      "22/22 [==============================] - 0s 4ms/step - loss: 0.0723\n",
      "Epoch 193/200\n",
      "22/22 [==============================] - 0s 4ms/step - loss: 0.0715\n",
      "Epoch 194/200\n",
      "22/22 [==============================] - 0s 4ms/step - loss: 0.0737\n",
      "Epoch 195/200\n",
      "22/22 [==============================] - 0s 5ms/step - loss: 0.0698\n",
      "Epoch 196/200\n",
      "22/22 [==============================] - 0s 4ms/step - loss: 0.0695\n",
      "Epoch 197/200\n",
      "22/22 [==============================] - 0s 4ms/step - loss: 0.0715\n",
      "Epoch 198/200\n",
      "22/22 [==============================] - 0s 6ms/step - loss: 0.0740\n",
      "Epoch 199/200\n",
      "22/22 [==============================] - 0s 5ms/step - loss: 0.0699\n",
      "Epoch 200/200\n",
      "22/22 [==============================] - 0s 5ms/step - loss: 0.0696\n",
      "22/22 [==============================] - 0s 4ms/step\n"
     ]
    }
   ],
   "source": [
    "#Implementation of the AutoEncoder Feature Selection Technique\n",
    "\n",
    "orig_inputs=Input(shape=(9,))\n",
    "en1=layers.Dense(8,activation='sigmoid')(orig_inputs)\n",
    "en2=layers.Dense(7,activation='relu')(en1)\n",
    "en3=layers.Dense(6,activation='relu')(en2)\n",
    "#en4=layers.Dense(4,activation='relu')(en3)\n",
    "model_encoder=Model(orig_inputs,en3,name=\"encoder\")\n",
    "encoder_input=Input(shape=(6,))\n",
    "de1=layers.Dense(7,activation='relu')(encoder_input)\n",
    "de2=layers.Dense(8,activation='relu')(de1)\n",
    "de3=layers.Dense(9,activation='LeakyReLU')(de2)\n",
    "#de4=layers.Dense(9,activation='sigmoid')(de3)\n",
    "model_decoder=Model(encoder_input,de3)\n",
    "auto_encoder=Model(orig_inputs,model_decoder(model_encoder(orig_inputs)),name=\"autoencoder\")\n",
    "auto_encoder.summary()\n",
    "auto_encoder.compile(loss=keras.losses.MeanSquaredError(),optimizer=tf.keras.optimizers.SGD(learning_rate=0.1))\n",
    "auto_encoder.fit(X_std,Y,epochs=200)\n",
    "#Reduced relevant features\n",
    "Xencoded=model_encoder.predict(X_std)\n",
    "#csv_pd=pd.DataFrame(Xencoded)"
   ]
  },
  {
   "cell_type": "code",
   "execution_count": 24,
   "id": "e4158c53",
   "metadata": {},
   "outputs": [
    {
     "name": "stdout",
     "output_type": "stream",
     "text": [
      "Before Encoding\n",
      "              Linear SVM_Accuracy: 96.43891652846875\n",
      "              RBF SVM_Accuracy   : 96.5870646766169\n",
      "After Encoding\n",
      "              Linear SVM_Accuracy: 98.07075732448867\n",
      "              RBF SVM_Accuracy   : 94.95854063018243\n"
     ]
    }
   ],
   "source": [
    "#Performing the K-Fold Cross Validation for Autoencoded data set\n",
    "from numpy import array\n",
    "from sklearn.model_selection import KFold, cross_val_score\n",
    "from sklearn.svm import SVC\n",
    "\n",
    "# prepare cross validation\n",
    "kfold = KFold(5)\n",
    "\n",
    "#Implementation of Support Vector Classifier(SVC)\n",
    "\n",
    "#Enumerate the splits\n",
    "scores_linear = cross_val_score(SVC(kernel='linear',C=1, gamma = 0.002), X, Y, cv = 5)\n",
    "scores_RBF = cross_val_score(SVC(kernel='rbf',random_state=1, gamma = 0.002,C=1), X, Y, cv = 5)\n",
    "scores_Encoder_linear_selected = cross_val_score(SVC(kernel='linear',C=1, gamma = 0.002), Xencoded, Y, cv = kfold)\n",
    "scores_Encoder_RBF_selected = cross_val_score(SVC(kernel='rbf',random_state=1, gamma = 0.002,C=1), Xencoded, Y, cv = kfold)\n",
    "#printing the Average of scores from all the splits\n",
    "print(\"Before Encoding\")\n",
    "print('              Linear SVM_Accuracy:',np.average(scores_linear)*100)\n",
    "print('              RBF SVM_Accuracy   :',np.average(scores_RBF)*100)\n",
    "print(\"After Encoding\")\n",
    "print('              Linear SVM_Accuracy:',np.average(scores_Encoder_linear_selected)*100)\n",
    "print('              RBF SVM_Accuracy   :',np.average(scores_Encoder_RBF_selected)*100)"
   ]
  },
  {
   "cell_type": "code",
   "execution_count": 25,
   "id": "24f7831a",
   "metadata": {},
   "outputs": [
    {
     "name": "stdout",
     "output_type": "stream",
     "text": [
      "1/1 [==============================] - 0s 47ms/step\n",
      "For [4, 8, 8, 5, 4, 5, 10, 4, 1] :Malignant \n",
      "For [2, 1, 1, 1, 2, 1, 1, 1, 1] :Benign \n"
     ]
    }
   ],
   "source": [
    "model=SVC()\n",
    "model.fit(Xencoded,Y)\n",
    "x_2=[[4,8,8,5,4,5,10,4,1],[2,1,1,1,2,1,1,1,1]]  #User input of the features to know the target variable\n",
    "X_std_2=sc.transform(x_2)\n",
    "X_encoded_1=model_encoder.predict(X_std_2)\n",
    "# print(X_encoded_1)\n",
    "result_encoder=model.predict(X_encoded_1)\n",
    "answer_encoder=''\n",
    "for index in range(len(result_encoder)):\n",
    "    if result_encoder[index]==4:\n",
    "        answer_encoder='Malignant'\n",
    "    else:\n",
    "        answer_encoder=\"Benign\"\n",
    "    print(f'For {x_2[index]} :{answer_encoder} ')"
   ]
  },
  {
   "cell_type": "code",
   "execution_count": 26,
   "id": "fe02eca9",
   "metadata": {},
   "outputs": [],
   "source": [
    "from sklearn.metrics import classification_report, accuracy_score, make_scorer, confusion_matrix, matthews_corrcoef, roc_auc_score, roc_curve, f1_score\n",
    "F1_score = []\n",
    "sensitivity = []\n",
    "specificity = []\n",
    "mcc = []\n",
    "Auc = []\n",
    "acc = []\n",
    "CF=[]\n",
    "def classification_report_with_accuracy_score_1(y_true, y_pred):\n",
    "    F1_score.append(f1_score(y_true, y_pred, average='micro'))\n",
    "    cm1 = confusion_matrix(y_true, y_pred)\n",
    "#     CF[0][0]+=cm1[0][0]\n",
    "#     CF[0][1]+=cm1[0][1]\n",
    "#     CF[1][0]+=cm1[1][0]\n",
    "#     CF[1][1]+=cm1[1][1]\n",
    "    CF.append(cm1) \n",
    "    sensitivity1 = cm1[0,0]/(cm1[0,0]+cm1[0,1])\n",
    "    sensitivity.append(sensitivity1 )\n",
    "    specificity1 = cm1[1,1]/(cm1[1,0]+cm1[1,1])\n",
    "    specificity.append(specificity1)\n",
    "    mcc.append(matthews_corrcoef(y_true, y_pred))\n",
    "    auc=roc_auc_score(y_true,y_pred)\n",
    "    Auc.append(roc_auc_score(y_true,y_pred))\n",
    "    acc.append(accuracy_score(y_true, y_pred))\n",
    "    return accuracy_score(y_true, y_pred)"
   ]
  },
  {
   "cell_type": "code",
   "execution_count": 27,
   "id": "95536848",
   "metadata": {},
   "outputs": [
    {
     "name": "stdout",
     "output_type": "stream",
     "text": [
      "[97.04022988505747, 97.04022988505749, 97.11426139509854, 97.6482634681146]\n",
      "[95.31914893617021, 95.74468085106383, 96.84224669811492, 94.81853261649255]\n",
      "[96.43891652846875, 96.58761746821448, 97.08199742030588, 96.55113322277501]\n",
      "[92.32937937241852, 92.63315221632362, 93.67865815763571, 92.68505410974412]\n",
      "[96.17968941061385, 96.39245536806064, 96.97825404660671, 96.23339804230359]\n",
      "[96.43891652846875, 96.7363184079602, 98.07075732448867, 94.95854063018243]\n"
     ]
    }
   ],
   "source": [
    "Sense=[]\n",
    "speci=[]\n",
    "F_1=[]\n",
    "MCC_score=[]\n",
    "AUC_score=[]\n",
    "Acc_score=[]\n",
    "\n",
    "result_SVM_ALL = cross_val_score(SVC(kernel='linear',C=1, gamma = 0.003), X, Y, cv = 5, \\\n",
    "               scoring=make_scorer(classification_report_with_accuracy_score_1))\n",
    "speci.append(np.average(specificity)*100)\n",
    "Sense.append(np.average(sensitivity)*100)\n",
    "F_1.append(np.average(F1_score)*100)\n",
    "MCC_score.append(np.average(mcc)*100)\n",
    "AUC_score.append(np.average(Auc)*100)\n",
    "Acc_score.append(np.average(result_SVM_ALL)*100)\n",
    "\n",
    "\n",
    "result_SVM_ALL_RBF = cross_val_score(SVC(kernel='rbf',C=1, gamma = 0.004), X, Y, cv = 5, \\\n",
    "               scoring=make_scorer(classification_report_with_accuracy_score_1))\n",
    "speci.append(np.average(specificity)*100)\n",
    "Sense.append(np.average(sensitivity)*100)\n",
    "F_1.append(np.average(F1_score)*100)\n",
    "MCC_score.append(np.average(mcc)*100)\n",
    "AUC_score.append(np.average(Auc)*100)\n",
    "Acc_score.append(np.average(result_SVM_ALL_RBF)*100)\n",
    "\n",
    "\n",
    "result_SVM_Auto_LINEAR = cross_val_score(SVC(kernel='linear',C=1, gamma = 0.003), Xencoded, Y, cv = kfold, \\\n",
    "               scoring=make_scorer(classification_report_with_accuracy_score_1))\n",
    "speci.append(np.average(specificity)*100)\n",
    "Sense.append(np.average(sensitivity)*100)\n",
    "F_1.append(np.average(F1_score)*100)\n",
    "MCC_score.append(np.average(mcc)*100)\n",
    "AUC_score.append(np.average(Auc)*100)\n",
    "Acc_score.append(np.average(result_SVM_Auto_LINEAR)*100)\n",
    "\n",
    "\n",
    "result_SVM_Auto_RBF= cross_val_score(SVC(kernel='rbf',C=1, gamma = 0.002), Xencoded, Y, cv = kfold, \\\n",
    "               scoring=make_scorer(classification_report_with_accuracy_score_1))\n",
    "speci.append(np.average(specificity)*100)\n",
    "Sense.append(np.average(sensitivity)*100)\n",
    "F_1.append(np.average(F1_score)*100)\n",
    "MCC_score.append(np.average(mcc)*100)\n",
    "AUC_score.append(np.average(Auc)*100)\n",
    "Acc_score.append(np.average(result_SVM_Auto_RBF)*100)\n",
    "\n",
    "print(Sense)\n",
    "print(speci)\n",
    "print(F_1)\n",
    "print(MCC_score)\n",
    "print(AUC_score)\n",
    "print(Acc_score)\n"
   ]
  },
  {
   "cell_type": "code",
   "execution_count": 28,
   "id": "703e24f7",
   "metadata": {},
   "outputs": [],
   "source": [
    "#Implementation of Relief Feature Selection Algorithm\n",
    "from io import BytesIO\n",
    "from sklearn.preprocessing import MinMaxScaler as mm\n",
    "df = pd.read_csv('wbc.csv')\n",
    "df=df.dropna()"
   ]
  },
  {
   "cell_type": "code",
   "execution_count": 29,
   "id": "e57e6771",
   "metadata": {},
   "outputs": [
    {
     "data": {
      "text/plain": [
       "(673, 9)"
      ]
     },
     "execution_count": 29,
     "metadata": {},
     "output_type": "execute_result"
    }
   ],
   "source": [
    "from sklearn.preprocessing import StandardScaler as ss\n",
    "w = {}\n",
    "for i in range(9):\n",
    "    w[i] = 0\n",
    "x = df.iloc[:,1:10].values\n",
    "y = df.iloc[:,10].values\n",
    "mc=ss()\n",
    "#mc = mm()\n",
    "X_minmax = mc.fit_transform(X)\n",
    "X_minmax.shape"
   ]
  },
  {
   "cell_type": "code",
   "execution_count": 30,
   "id": "89a25d0c",
   "metadata": {},
   "outputs": [],
   "source": [
    "from math import *\n",
    "l = pd.DataFrame(X_minmax).values.tolist()\n",
    "att = []\n",
    "for i in range(9):\n",
    "    m = inf\n",
    "    m1 = -inf\n",
    "    for j in range(len(l)):\n",
    "        m = min(m, l[j][i])\n",
    "        m1 = max(m1, l[j][i])\n",
    "    att.append(abs(m1 - m))\n",
    "\n",
    "n = len(l) - 1\n",
    "t = y.tolist()\n",
    "# print(y[len(l)-1])\n",
    "# print(l)\n",
    "m = 6\n",
    "j = len(l) - 1\n",
    "#print(l)"
   ]
  },
  {
   "cell_type": "code",
   "execution_count": 31,
   "id": "2a38680c",
   "metadata": {},
   "outputs": [],
   "source": [
    "def distance(p, q):\n",
    "    d = 0\n",
    "    # print(p)\n",
    "    for i in range(len(p)):\n",
    "        d += abs(p[i] - q[i])\n",
    "    return d"
   ]
  },
  {
   "cell_type": "code",
   "execution_count": 32,
   "id": "0de5b484",
   "metadata": {},
   "outputs": [],
   "source": [
    "for i in range(m):\n",
    "    R = l[j]\n",
    "    target_type = y[j]\n",
    "    H = inf\n",
    "    M = inf\n",
    "    H_row = -1\n",
    "    M_row = -1\n",
    "    # print(target_type,'*'*20)\n",
    "    for k in range(len(l)):\n",
    "        if k != j:\n",
    "            if target_type == y[k]:\n",
    "                if H > distance(R, l[k]):\n",
    "                    H = distance(R, l[k])\n",
    "                    H_row = l[k]\n",
    "            else:\n",
    "                if M > distance(R, l[k]):\n",
    "                    M = distance(R, l[k])\n",
    "                    M_row = l[k]\n",
    "    # print(H,M)\n",
    "    for k in range(9):\n",
    "        # print('\\n')\n",
    "       # print(R, H_row, att, m, sep='\\n')\n",
    "        v1 = (abs(R[k] - H_row[k]) / att[k]) / m\n",
    "\n",
    "        v2 = (abs(R[k] - M_row[k]) / att[k]) / m\n",
    "\n",
    "        w[k] = w[k] - v1 + v2\n",
    "\n",
    "    j -= 1\n",
    "#print(w)"
   ]
  },
  {
   "cell_type": "code",
   "execution_count": 33,
   "id": "910e08bb",
   "metadata": {},
   "outputs": [
    {
     "name": "stdout",
     "output_type": "stream",
     "text": [
      "9\n"
     ]
    }
   ],
   "source": [
    "from collections import OrderedDict\n",
    "dic={}\n",
    "for z in range(9):\n",
    "    dic[z+1]=w[z]\n",
    "#dict1 = OrderedDict(sorted(dic.items()))\n",
    "dict1 = sorted(dic.items(), key=lambda x:x[1],reverse=True)\n",
    "print(len(dict1))\n",
    "#print(dict1)"
   ]
  },
  {
   "cell_type": "code",
   "execution_count": 34,
   "id": "ea0af22e",
   "metadata": {},
   "outputs": [],
   "source": [
    "df=df.drop(labels=[\"ID\",\"Mitoses\",\"Marginal_Adhesion\",], axis=1)\n",
    "\n",
    "X_Relief=df.iloc[:,:7].values\n",
    "Y_Relief=df.iloc[:,7].values"
   ]
  },
  {
   "cell_type": "code",
   "execution_count": 35,
   "id": "aaa2b0e7",
   "metadata": {},
   "outputs": [
    {
     "data": {
      "text/plain": [
       "(673, 7)"
      ]
     },
     "execution_count": 35,
     "metadata": {},
     "output_type": "execute_result"
    }
   ],
   "source": [
    "X1_Relief=mc.fit_transform(X_Relief)\n",
    "X1_Relief.shape"
   ]
  },
  {
   "cell_type": "code",
   "execution_count": 36,
   "id": "c9b10192",
   "metadata": {},
   "outputs": [
    {
     "name": "stdout",
     "output_type": "stream",
     "text": [
      "96.88323090430202\n"
     ]
    }
   ],
   "source": [
    "kfold = KFold(10)\n",
    "scores_linear_selected = cross_val_score(SVC(kernel='linear',C=1, gamma = 0.003), X1_Relief, Y_Relief, cv = kfold)\n",
    "print(np.average(scores_linear_selected)*100)"
   ]
  },
  {
   "cell_type": "code",
   "execution_count": 37,
   "id": "7948b8b0",
   "metadata": {},
   "outputs": [],
   "source": [
    "from sklearn.metrics import classification_report, accuracy_score, make_scorer, confusion_matrix, matthews_corrcoef, roc_auc_score, roc_curve, f1_score\n",
    "F1_score = []\n",
    "sensitivity = []\n",
    "specificity = []\n",
    "mcc = []\n",
    "Auc = []\n",
    "acc = []\n",
    "CF=[]\n",
    "def classification_report_with_accuracy_score_2(y_true, y_pred):\n",
    "    F1_score.append(f1_score(y_true, y_pred, average='micro'))\n",
    "    cm1 = confusion_matrix(y_true, y_pred)\n",
    "    CF.append(cm1)\n",
    "    sensitivity1 = cm1[0,0]/(cm1[0,0]+cm1[0,1])\n",
    "    sensitivity.append(sensitivity1 )\n",
    "    specificity1 = cm1[1,1]/(cm1[1,0]+cm1[1,1])\n",
    "    specificity.append(specificity1)\n",
    "    mcc.append(matthews_corrcoef(y_true, y_pred))\n",
    "    auc=roc_auc_score(y_true,y_pred)\n",
    "    Auc.append(auc)\n",
    "    acc.append(accuracy_score(y_true, y_pred))\n",
    "    return accuracy_score(y_true, y_pred)"
   ]
  },
  {
   "cell_type": "code",
   "execution_count": 38,
   "id": "713f7088",
   "metadata": {},
   "outputs": [
    {
     "name": "stdout",
     "output_type": "stream",
     "text": [
      "specificity     : 95.77898550724638\n",
      "F1_score        : 96.88542581211588\n",
      "Sensitivity     : 97.49471458773785\n",
      "MCC             : 93.30671830160287\n",
      "AUC             : 96.63685004749212\n",
      "Accuracy        : 96.88542581211588\n"
     ]
    }
   ],
   "source": [
    "F1_score = []\n",
    "sensitivity = []\n",
    "specificity = []\n",
    "mcc = []\n",
    "Auc = []\n",
    "acc = []\n",
    "CF=[]\n",
    "results = cross_val_score(SVC(kernel='linear',C=1, gamma = 0.003), X1_Relief, Y, cv = 10, \\\n",
    "               scoring=make_scorer(classification_report_with_accuracy_score_2))\n",
    "#Printing the average of each metric\n",
    "print(\"specificity     :\",np.average(specificity)*100)\n",
    "print(\"F1_score        :\",np.average(F1_score)*100)\n",
    "print(\"Sensitivity     :\",np.average(sensitivity)*100)\n",
    "print(\"MCC             :\",np.average(mcc)*100)\n",
    "print(\"AUC             :\",np.average(Auc)*100)\n",
    "print(\"Accuracy        :\",np.average(acc)*100)"
   ]
  },
  {
   "cell_type": "code",
   "execution_count": 41,
   "id": "a97e75d3",
   "metadata": {},
   "outputs": [
    {
     "data": {
      "text/plain": [
       "<BarContainer object of 3 artists>"
      ]
     },
     "execution_count": 41,
     "metadata": {},
     "output_type": "execute_result"
    },
    {
     "data": {
      "image/png": "[encoded data removed]",
      "text/plain": [
       "<Figure size 800x550 with 1 Axes>"
      ]
     },
     "metadata": {},
     "output_type": "display_data"
    }
   ],
   "source": [
    "plot={\"PCA\":96.48,\"Autoencoder\":95.69,\"Relief\":96.88}\n",
    "algorithm=list(plot.keys())\n",
    "accuracy=list(plot.values())\n",
    "plt.ylim([95,100])\n",
    "plt.ylabel(\"Accuracy\")\n",
    "plt.bar(algorithm,accuracy,width=0.4)"
   ]
  },
  {
   "cell_type": "code",
   "execution_count": null,
   "id": "b11c5f11",
   "metadata": {},
   "outputs": [],
   "source": []
  },
  {
   "cell_type": "code",
   "execution_count": null,
   "id": "0aee430b",
   "metadata": {},
   "outputs": [],
   "source": []
  },
  {
   "cell_type": "code",
   "execution_count": null,
   "id": "d3bea1f6",
   "metadata": {},
   "outputs": [],
   "source": []
  },
  {
   "cell_type": "code",
   "execution_count": null,
   "id": "4d15c30c",
   "metadata": {},
   "outputs": [],
   "source": []
  }
 ],
 "metadata": {
  "kernelspec": {
   "display_name": "Python 3 (ipykernel)",
   "language": "python",
   "name": "python3"
  },
  "language_info": {
   "codemirror_mode": {
    "name": "ipython",
    "version": 3
   },
   "file_extension": ".py",
   "mimetype": "text/x-python",
   "name": "python",
   "nbconvert_exporter": "python",
   "pygments_lexer": "ipython3",
   "version": "3.9.13"
  }
 },
 "nbformat": 4,
 "nbformat_minor": 5
}
